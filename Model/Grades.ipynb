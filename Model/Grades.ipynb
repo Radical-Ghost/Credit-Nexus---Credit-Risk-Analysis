{
 "cells": [
  {
   "cell_type": "code",
   "execution_count": 1,
   "id": "9a1c434c",
   "metadata": {},
   "outputs": [],
   "source": [
    "import pandas as pd\n",
    "from xgboost import XGBClassifier\n",
    "from sklearn.model_selection import train_test_split, GridSearchCV\n",
    "from sklearn.metrics import classification_report, confusion_matrix\n",
    "import joblib\n",
    "import warnings\n",
    "\n",
    "warnings.filterwarnings(\"ignore\")"
   ]
  },
  {
   "cell_type": "code",
   "execution_count": 2,
   "id": "21757a04",
   "metadata": {},
   "outputs": [],
   "source": [
    "df = pd.read_csv(\"../Data/Preprocessed_LCData.csv\")"
   ]
  },
  {
   "cell_type": "code",
   "execution_count": 3,
   "id": "0f2f2f2f",
   "metadata": {},
   "outputs": [],
   "source": [
    "#XGboost requires numbers staring from 0\n",
    "grade_map = {1:0, 2:1, 3:2, 4:3, 5:4, 6:5, 7:6}\n",
    "df['grade'] = df['grade'].map(grade_map)"
   ]
  },
  {
   "cell_type": "code",
   "execution_count": 4,
   "id": "c2734ad5",
   "metadata": {},
   "outputs": [],
   "source": [
    "#Prepare features and target\n",
    "X = df.drop(['default_flag', 'grade'], axis=1)  # default_flag omitted\n",
    "y = df['grade']"
   ]
  },
  {
   "cell_type": "code",
   "execution_count": 5,
   "id": "615f7f7c",
   "metadata": {},
   "outputs": [],
   "source": [
    "X_train, X_test, y_train, y_test = train_test_split(X, y, test_size=0.3, random_state=42, stratify=y)"
   ]
  },
  {
   "cell_type": "code",
   "execution_count": 6,
   "id": "c0e925a6",
   "metadata": {},
   "outputs": [],
   "source": [
    "xgb_grade = XGBClassifier(\n",
    "    tree_method='hist',   # CPU-friendly; can also use 'gpu_hist' or 'hist' + device='cuda' if GPU available\n",
    "    device='cuda',        # enable GPU\n",
    "    objective='multi:softmax',\n",
    "    num_class=7,          # number of grade classes\n",
    "    eval_metric='mlogloss',\n",
    "    random_state=42\n",
    ")"
   ]
  },
  {
   "cell_type": "code",
   "execution_count": 7,
   "id": "d54bad70",
   "metadata": {},
   "outputs": [],
   "source": [
    "param_grid = {\n",
    "    'n_estimators': [100, 200, 250],\n",
    "    'max_depth': [4, 6, 8],\n",
    "    'learning_rate': [0.01, 0.1],\n",
    "    'subsample': [0.8, 1]\n",
    "}"
   ]
  },
  {
   "cell_type": "code",
   "execution_count": 8,
   "id": "a7071191",
   "metadata": {},
   "outputs": [],
   "source": [
    "grid_grade = GridSearchCV(\n",
    "    estimator=xgb_grade,\n",
    "    param_grid=param_grid,\n",
    "    scoring='accuracy',\n",
    "    cv=3,\n",
    "    verbose=1\n",
    ")"
   ]
  },
  {
   "cell_type": "code",
   "execution_count": null,
   "id": "883f98ea",
   "metadata": {},
   "outputs": [
    {
     "name": "stdout",
     "output_type": "stream",
     "text": [
      "Fitting 3 folds for each of 36 candidates, totalling 108 fits\n"
     ]
    }
   ],
   "source": [
    "grid_grade.fit(X_train, y_train)"
   ]
  },
  {
   "cell_type": "code",
   "execution_count": null,
   "id": "5c77b2d1",
   "metadata": {},
   "outputs": [],
   "source": [
    "best_xgb_grade = grid_grade.best_estimator_"
   ]
  },
  {
   "cell_type": "code",
   "execution_count": null,
   "id": "b45e89cd",
   "metadata": {},
   "outputs": [],
   "source": [
    "y_pred = best_xgb_grade.predict(X_test)\n",
    "print(\"Classification Report:\\n\", classification_report(y_test, y_pred))\n",
    "print(\"Confusion Matrix:\\n\", confusion_matrix(y_test, y_pred))"
   ]
  },
  {
   "cell_type": "code",
   "execution_count": null,
   "id": "14abd1fe",
   "metadata": {},
   "outputs": [],
   "source": [
    "import seaborn as sns\n",
    "import matplotlib.pyplot as plt\n",
    "\n",
    "cm = confusion_matrix(y_test, y_pred)\n",
    "\n",
    "plt.figure(figsize=(8, 6))\n",
    "sns.heatmap(cm, annot=True, fmt='d', cmap='BuGn',\n",
    "            xticklabels=['Negative', 'Positive'], yticklabels=['Negative', 'Positive'])\n",
    "plt.xlabel('Predicted Label')\n",
    "plt.ylabel('True Label')\n",
    "plt.title('Confusion Matrix')\n",
    "plt.show()"
   ]
  },
  {
   "cell_type": "code",
   "execution_count": null,
   "id": "147c4959",
   "metadata": {},
   "outputs": [],
   "source": [
    "joblib.dump(best_xgb_grade, 'xgb_grade_model.pkl')"
   ]
  }
 ],
 "metadata": {
  "kernelspec": {
   "display_name": "neurokit",
   "language": "python",
   "name": "python3"
  },
  "language_info": {
   "codemirror_mode": {
    "name": "ipython",
    "version": 3
   },
   "file_extension": ".py",
   "mimetype": "text/x-python",
   "name": "python",
   "nbconvert_exporter": "python",
   "pygments_lexer": "ipython3",
   "version": "3.10.18"
  }
 },
 "nbformat": 4,
 "nbformat_minor": 5
}
